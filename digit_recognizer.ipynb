{
 "cells": [
  {
   "cell_type": "code",
   "execution_count": 1,
   "metadata": {},
   "outputs": [],
   "source": [
    "#import libraries\n",
    "import pandas as pd\n",
    "import tensorflow.keras"
   ]
  },
  {
   "cell_type": "code",
   "execution_count": 2,
   "metadata": {},
   "outputs": [],
   "source": [
    "#import datasets\n",
    "train=pd.read_csv(\"train.csv\")\n",
    "test=pd.read_csv(\"test.csv\")"
   ]
  },
  {
   "cell_type": "code",
   "execution_count": 3,
   "metadata": {},
   "outputs": [],
   "source": [
    "X=train.iloc[:,1:].values\n",
    "y=train.iloc[:,0].values"
   ]
  },
  {
   "cell_type": "code",
   "execution_count": 4,
   "metadata": {},
   "outputs": [],
   "source": [
    "test=test.iloc[:,:].values"
   ]
  },
  {
   "cell_type": "code",
   "execution_count": 5,
   "metadata": {},
   "outputs": [],
   "source": [
    "#reshape data\n",
    "X = X.reshape(X.shape[0], 28, 28)/255.0\n",
    "X = X.reshape(X.shape[0], 28,28,1)"
   ]
  },
  {
   "cell_type": "code",
   "execution_count": 6,
   "metadata": {},
   "outputs": [],
   "source": [
    "test = test.reshape(test.shape[0], 28, 28)/255.0\n",
    "test = test.reshape(test.shape[0], 28,28,1)"
   ]
  },
  {
   "cell_type": "markdown",
   "metadata": {},
   "source": [
    "### import keras libraries"
   ]
  },
  {
   "cell_type": "code",
   "execution_count": 7,
   "metadata": {},
   "outputs": [],
   "source": [
    "from tensorflow.keras.models import Sequential\n",
    "from tensorflow.keras.layers import Convolution2D \n",
    "from tensorflow.keras.layers import MaxPooling2D\n",
    "from tensorflow.keras.layers import Flatten\n",
    "from tensorflow.keras.layers import Dense,Dropout"
   ]
  },
  {
   "cell_type": "markdown",
   "metadata": {},
   "source": [
    "### initialize classifier"
   ]
  },
  {
   "cell_type": "code",
   "execution_count": 8,
   "metadata": {},
   "outputs": [],
   "source": [
    "classifier=Sequential()"
   ]
  },
  {
   "cell_type": "markdown",
   "metadata": {},
   "source": [
    "#### layer1"
   ]
  },
  {
   "cell_type": "code",
   "execution_count": 9,
   "metadata": {},
   "outputs": [],
   "source": [
    "classifier.add(Convolution2D(16,3,3,input_shape=(28, 28, 1),activation='relu'))\n",
    "classifier.add(MaxPooling2D(pool_size=(2, 2)))\n",
    "classifier.add(Dropout(0.25))"
   ]
  },
  {
   "cell_type": "markdown",
   "metadata": {},
   "source": [
    "#### layer2"
   ]
  },
  {
   "cell_type": "code",
   "execution_count": 10,
   "metadata": {},
   "outputs": [],
   "source": [
    "classifier.add(Convolution2D(32,kernel_size=3,padding=\"same\",activation='relu'))\n",
    "classifier.add(MaxPooling2D(pool_size=(2, 2)))\n",
    "classifier.add(Dropout(0.25))"
   ]
  },
  {
   "cell_type": "markdown",
   "metadata": {},
   "source": [
    "#### layer3"
   ]
  },
  {
   "cell_type": "code",
   "execution_count": 11,
   "metadata": {},
   "outputs": [],
   "source": [
    "classifier.add(Convolution2D(64,kernel_size=3,padding=\"same\",activation='relu'))\n",
    "classifier.add(MaxPooling2D(pool_size=(2, 2)))\n",
    "classifier.add(Dropout(0.25))"
   ]
  },
  {
   "cell_type": "code",
   "execution_count": 13,
   "metadata": {},
   "outputs": [],
   "source": [
    "#flattening\n",
    "classifier.add(Flatten())"
   ]
  },
  {
   "cell_type": "code",
   "execution_count": 14,
   "metadata": {},
   "outputs": [],
   "source": [
    "classifier.add(Dense(units=128,activation='relu'))\n",
    "classifier.add(Dropout(0.5))\n",
    "classifier.add(Dense(units=10,activation='softmax'))"
   ]
  },
  {
   "cell_type": "markdown",
   "metadata": {},
   "source": [
    "#### compiling"
   ]
  },
  {
   "cell_type": "code",
   "execution_count": 16,
   "metadata": {},
   "outputs": [],
   "source": [
    "classifier.compile(optimizer='adam',loss='sparse_categorical_crossentropy',metrics=['accuracy'])"
   ]
  },
  {
   "cell_type": "markdown",
   "metadata": {},
   "source": [
    "#### fit model"
   ]
  },
  {
   "cell_type": "code",
   "execution_count": 17,
   "metadata": {},
   "outputs": [
    {
     "name": "stdout",
     "output_type": "stream",
     "text": [
      "Train on 42000 samples\n",
      "Epoch 1/20\n",
      "42000/42000 [==============================] - 282s 7ms/sample - loss: 0.8630 - accuracy: 0.7095\n",
      "Epoch 2/20\n",
      "42000/42000 [==============================] - 282s 7ms/sample - loss: 0.4820 - accuracy: 0.8532\n",
      "Epoch 3/20\n",
      "42000/42000 [==============================] - 284s 7ms/sample - loss: 0.3994 - accuracy: 0.8805\n",
      "Epoch 4/20\n",
      "42000/42000 [==============================] - 272s 6ms/sample - loss: 0.3697 - accuracy: 0.8899\n",
      "Epoch 5/20\n",
      "42000/42000 [==============================] - 278s 7ms/sample - loss: 0.3385 - accuracy: 0.8982\n",
      "Epoch 6/20\n",
      "42000/42000 [==============================] - 255s 6ms/sample - loss: 0.3306 - accuracy: 0.9013\n",
      "Epoch 7/20\n",
      "42000/42000 [==============================] - 253s 6ms/sample - loss: 0.3206 - accuracy: 0.9038\n",
      "Epoch 8/20\n",
      "42000/42000 [==============================] - 277s 7ms/sample - loss: 0.3121 - accuracy: 0.9068\n",
      "Epoch 9/20\n",
      "42000/42000 [==============================] - 251s 6ms/sample - loss: 0.3090 - accuracy: 0.9087\n",
      "Epoch 10/20\n",
      "42000/42000 [==============================] - 262s 6ms/sample - loss: 0.3022 - accuracy: 0.9104\n",
      "Epoch 11/20\n",
      "42000/42000 [==============================] - 250s 6ms/sample - loss: 0.3023 - accuracy: 0.9097\n",
      "Epoch 12/20\n",
      "42000/42000 [==============================] - 246s 6ms/sample - loss: 0.2968 - accuracy: 0.9104\n",
      "Epoch 13/20\n",
      "42000/42000 [==============================] - 247s 6ms/sample - loss: 0.2866 - accuracy: 0.9155\n",
      "Epoch 14/20\n",
      "42000/42000 [==============================] - 265s 6ms/sample - loss: 0.2941 - accuracy: 0.9135\n",
      "Epoch 15/20\n",
      "42000/42000 [==============================] - 258s 6ms/sample - loss: 0.2865 - accuracy: 0.9137\n",
      "Epoch 16/20\n",
      "42000/42000 [==============================] - 258s 6ms/sample - loss: 0.2862 - accuracy: 0.9147\n",
      "Epoch 17/20\n",
      "42000/42000 [==============================] - 263s 6ms/sample - loss: 0.2827 - accuracy: 0.9160\n",
      "Epoch 18/20\n",
      "42000/42000 [==============================] - 287s 7ms/sample - loss: 0.2775 - accuracy: 0.9168\n",
      "Epoch 19/20\n",
      "42000/42000 [==============================] - 286s 7ms/sample - loss: 0.2785 - accuracy: 0.9186\n",
      "Epoch 20/20\n",
      "42000/42000 [==============================] - 285s 7ms/sample - loss: 0.2819 - accuracy: 0.9177\n"
     ]
    },
    {
     "data": {
      "text/plain": [
       "<tensorflow.python.keras.callbacks.History at 0x7f4dd8e9b810>"
      ]
     },
     "execution_count": 17,
     "metadata": {},
     "output_type": "execute_result"
    }
   ],
   "source": [
    "classifier.fit(X, y, batch_size = 12, epochs = 20)"
   ]
  },
  {
   "cell_type": "markdown",
   "metadata": {},
   "source": [
    "#### prediction"
   ]
  },
  {
   "cell_type": "code",
   "execution_count": 19,
   "metadata": {},
   "outputs": [],
   "source": [
    "y_pred = classifier.predict(test)"
   ]
  },
  {
   "cell_type": "code",
   "execution_count": 21,
   "metadata": {},
   "outputs": [],
   "source": [
    "import numpy as np"
   ]
  },
  {
   "cell_type": "code",
   "execution_count": 23,
   "metadata": {},
   "outputs": [],
   "source": [
    "results = np.argmax(y_pred,axis = 1)\n",
    "data_out = pd.DataFrame({'ImageId': range(1,len(test)+1), 'Label': results})\n",
    "data_out.to_csv('try.csv', index = None)"
   ]
  }
 ],
 "metadata": {
  "kernelspec": {
   "display_name": "Python 3",
   "language": "python",
   "name": "python3"
  },
  "language_info": {
   "codemirror_mode": {
    "name": "ipython",
    "version": 3
   },
   "file_extension": ".py",
   "mimetype": "text/x-python",
   "name": "python",
   "nbconvert_exporter": "python",
   "pygments_lexer": "ipython3",
   "version": "3.7.4"
  }
 },
 "nbformat": 4,
 "nbformat_minor": 2
}
